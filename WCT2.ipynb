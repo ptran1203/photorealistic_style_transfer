{
  "nbformat": 4,
  "nbformat_minor": 0,
  "metadata": {
    "colab": {
      "name": "WTC2",
      "provenance": [],
      "collapsed_sections": [],
      "include_colab_link": true
    },
    "kernelspec": {
      "name": "python3",
      "display_name": "Python 3"
    },
    "accelerator": "GPU"
  },
  "cells": [
    {
      "cell_type": "markdown",
      "metadata": {
        "id": "view-in-github",
        "colab_type": "text"
      },
      "source": [
        "<a href=\"https://colab.research.google.com/github/ptran1203/photorealistic_style_transfer/blob/master/WCT2.ipynb\" target=\"_parent\"><img src=\"https://colab.research.google.com/assets/colab-badge.svg\" alt=\"Open In Colab\"/></a>"
      ]
    },
    {
      "cell_type": "code",
      "metadata": {
        "id": "7aMqylPSbxs9"
      },
      "source": [
        "from google.colab import drive, output\n",
        "import os\n",
        "import json\n",
        "\n",
        "%cd /content/\n",
        "!rm -rf '/content/photorealistic_style_transfer'\n",
        "!git clone https://github.com/ptran1203/photorealistic_style_transfer\n",
        "%cd photorealistic_style_transfer\n",
        "# Download dataset from kaggle\n",
        "\n",
        "if not os.path.exists(\"/content/tfrecords\"):\n",
        "    !pip install -q kaggle\n",
        "    kaggle_json = {\n",
        "        \"username\": \"ptran1203\",\n",
        "        \"key\": \"8984c9ec69a9482990fafc7a8d60015a\"\n",
        "    }\n",
        "    if not os.path.exists(\"~/.kaggle\"):\n",
        "        with open(\"kaggle.json\", \"w\") as f:\n",
        "            json.dump(kaggle_json, f)\n",
        "        !mkdir ~/.kaggle\n",
        "    !cp kaggle.json ~/.kaggle/\n",
        "    !chmod 600 ~/.kaggle/kaggle.json\n",
        "    !kaggle datasets download google-scraped-tfrecords\n",
        "    !unzip google-scraped-tfrecords -d /content\n",
        "    !rm google-scraped-tfrecords.zip\n",
        "output.clear()"
      ],
      "execution_count": 1,
      "outputs": []
    },
    {
      "cell_type": "code",
      "metadata": {
        "id": "UYusm3xxhrJE",
        "outputId": "06f7df62-e6e4-4b42-8280-523364639166",
        "colab": {
          "base_uri": "https://localhost:8080/"
        }
      },
      "source": [
        "from model import WCT2\n",
        "from dataloader import build_input_pipe\n",
        "from utils import http_get_img, get_local_img\n",
        "import tensorflow.keras.backend as K\n",
        "import tensorflow as tf\n",
        "import matplotlib.pyplot as plt\n",
        "\n",
        "train_tfrec = \"/content/tfrecords/train.tfrec\"\n",
        "val_tfrec = \"/content/tfrecords/val.tfrec\"\n",
        "\n",
        "model = WCT2()\n",
        "\n",
        "model.train(train_tfrec, val_tfrec, epochs=10, batch_size=2)"
      ],
      "execution_count": null,
      "outputs": [
        {
          "output_type": "stream",
          "text": [
            "Epoch 1/10\n",
            " 971/5000 [====>.........................] - ETA: 11:36 - loss: 1421520539804.0784"
          ],
          "name": "stdout"
        }
      ]
    },
    {
      "cell_type": "code",
      "metadata": {
        "id": "G5dExvVK8-nG"
      },
      "source": [
        "import datetime\n",
        "import numpy as np\n",
        "\n",
        "rst=None\n",
        "test_id = np.random.randint(1, 60)\n",
        "test_id=20\n",
        "print(test_id)\n",
        "\n",
        "start = datetime.datetime.now()\n",
        "content = get_local_img(\"examples/input/in{}.png\".format(test_id),rst,True,True)\n",
        "style = get_local_img(\"examples/style/tar{}.png\".format(test_id),rst,True,True)\n",
        "\n",
        "# content = http_get_img(\n",
        "#     'https://github.com/clovaai/WCT2/blob/master/examples/content/in00.png?raw=true',\n",
        "#     None,True,True\n",
        "# )\n",
        "\n",
        "# style = http_get_img(\n",
        "#     'https://github.com/clovaai/WCT2/blob/master/examples/style/in00.png?raw=true',\n",
        "#     None,True,True\n",
        "# )\n",
        "\n",
        "print(\"load data in \", (datetime.datetime.now() - start))\n",
        "\n",
        "start = datetime.datetime.now()\n",
        "new_img = wct.transfer(content, style, 1.0)\n",
        "print(\"Transfer in \", (datetime.datetime.now() - start))\n",
        "\n",
        "data_gen.show_imgs(content[0])\n",
        "data_gen.show_imgs(style[0])\n",
        "data_gen.show_imgs(new_img[0])\n"
      ],
      "execution_count": null,
      "outputs": []
    }
  ]
}