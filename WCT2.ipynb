{
  "nbformat": 4,
  "nbformat_minor": 0,
  "metadata": {
    "colab": {
      "name": "WTC2",
      "provenance": [],
      "collapsed_sections": [],
      "include_colab_link": true
    },
    "kernelspec": {
      "name": "python3",
      "display_name": "Python 3"
    },
    "accelerator": "GPU"
  },
  "cells": [
    {
      "cell_type": "markdown",
      "metadata": {
        "id": "view-in-github",
        "colab_type": "text"
      },
      "source": [
        "<a href=\"https://colab.research.google.com/github/ptran1203/photorealistic_style_transfer/blob/master/WCT2.ipynb\" target=\"_parent\"><img src=\"https://colab.research.google.com/assets/colab-badge.svg\" alt=\"Open In Colab\"/></a>"
      ]
    },
    {
      "cell_type": "code",
      "metadata": {
        "id": "7aMqylPSbxs9",
        "outputId": "d86c4d31-ac08-41fd-e444-52f85b912aa7",
        "colab": {
          "base_uri": "https://localhost:8080/"
        }
      },
      "source": [
        "from google.colab import drive, output\n",
        "import os\n",
        "import json\n",
        "\n",
        "%cd /content/\n",
        "!rm -rf '/content/photorealistic_style_transfer'\n",
        "!git clone https://github.com/ptran1203/photorealistic_style_transfer\n",
        "%cd photorealistic_style_transfer\n",
        "\n",
        "if not os.path.exists(\"/content/tfrecords\"):\n",
        "    !wget -O /content/tfrecords.zip https://github.com/ptran1203/photorealistic_style_transfer/releases/download/v1.0/tfrecords.zip\n",
        "    !unzip /content/tfrecords.zip -d /content/\n",
        "output.clear()"
      ],
      "execution_count": null,
      "outputs": [
        {
          "output_type": "stream",
          "text": [
            "/content\n",
            "Cloning into 'photorealistic_style_transfer'...\n",
            "remote: Enumerating objects: 966, done.\u001b[K\n",
            "remote: Counting objects: 100% (128/128), done.\u001b[K\n",
            "remote: Compressing objects: 100% (93/93), done.\u001b[K\n",
            "remote: Total 966 (delta 71), reused 88 (delta 34), pack-reused 838\u001b[K\n",
            "Receiving objects: 100% (966/966), 110.49 MiB | 46.14 MiB/s, done.\n",
            "Resolving deltas: 100% (490/490), done.\n"
          ],
          "name": "stdout"
        }
      ]
    },
    {
      "cell_type": "code",
      "metadata": {
        "id": "UYusm3xxhrJE"
      },
      "source": [
        "!python3 train.py --train-tfrec /content/tfrecords/train.tfrec\\\n",
        "                --val-tfrec /content/tfrecords/val.tfrec\\\n",
        "                --epochs 100\\\n",
        "                --resume\\\n",
        "                --batch-size 8\\\n",
        "                --lr 2e-4\\"
      ],
      "execution_count": null,
      "outputs": []
    },
    {
      "cell_type": "code",
      "metadata": {
        "id": "_LGvkzJjev2z"
      },
      "source": [
        "# !python3 inference.py --content /content/photorealistic_style_transfer/examples/input/in21.png\\\n",
        "#                     --style /content/photorealistic_style_transfer/examples/style\\\n",
        "#                     --output /content/tests"
      ],
      "execution_count": null,
      "outputs": []
    },
    {
      "cell_type": "code",
      "metadata": {
        "id": "DfNykxWrHcNl"
      },
      "source": [
        "!rm -rf checkpoints"
      ],
      "execution_count": null,
      "outputs": []
    },
    {
      "cell_type": "code",
      "metadata": {
        "id": "KUO7q_gX82Lh"
      },
      "source": [
        "from model import WCT2\n",
        "from utils import read_img, download_weight\n",
        "import cv2\n",
        "\n",
        "model = WCT2()\n",
        "model.load_weight('pretrained')"
      ],
      "execution_count": null,
      "outputs": []
    },
    {
      "cell_type": "code",
      "metadata": {
        "id": "G5dExvVK8-nG"
      },
      "source": [
        "idx = 43\n",
        "content = f'/content/photorealistic_style_transfer/examples/input/in{idx}.png'\n",
        "style = f'/content/photorealistic_style_transfer/examples/style/tar{idx}.png'\n",
        "\n",
        "image_size = 512\n",
        "content = read_img(content, image_size, expand_dims=True)\n",
        "style = read_img(style, image_size, expand_dims=True)\n",
        "\n",
        "gen = model.transfer(content, style, 0.8)\n",
        "cv2.imwrite('/content/test.png', gen[0][...,::-1])\n",
        "display_outputs(content[0], style[0], gen[0])"
      ],
      "execution_count": null,
      "outputs": []
    },
    {
      "cell_type": "code",
      "metadata": {
        "id": "5liqeKAwN9EJ"
      },
      "source": [
        "gen[0]"
      ],
      "execution_count": null,
      "outputs": []
    }
  ]
}