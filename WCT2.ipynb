{
  "nbformat": 4,
  "nbformat_minor": 0,
  "metadata": {
    "colab": {
      "name": "WTC2",
      "provenance": [],
      "collapsed_sections": [],
      "include_colab_link": true
    },
    "kernelspec": {
      "name": "python3",
      "display_name": "Python 3"
    },
    "accelerator": "GPU"
  },
  "cells": [
    {
      "cell_type": "markdown",
      "metadata": {
        "id": "view-in-github",
        "colab_type": "text"
      },
      "source": [
        "<a href=\"https://colab.research.google.com/github/ptran1203/photorealistic_style_transfer/blob/master/WCT2.ipynb\" target=\"_parent\"><img src=\"https://colab.research.google.com/assets/colab-badge.svg\" alt=\"Open In Colab\"/></a>"
      ]
    },
    {
      "cell_type": "code",
      "metadata": {
        "id": "7aMqylPSbxs9"
      },
      "source": [
        "from google.colab import drive, output\n",
        "data_loaded = False\n",
        "drive.mount('/content/drive')\n",
        "BASE_DIR = \"/content/drive/My Drive/Style_Transfer\"\n",
        "!rm -rf '/content/photorealistic_style_transfer'\n",
        "!git clone https://github.com/ptran1203/photorealistic_style_transfer"
      ],
      "execution_count": null,
      "outputs": []
    },
    {
      "cell_type": "code",
      "metadata": {
        "id": "1shaLQGBhqAS"
      },
      "source": [
        "cd photorealistic_style_transfer"
      ],
      "execution_count": null,
      "outputs": []
    },
    {
      "cell_type": "code",
      "metadata": {
        "id": "UYusm3xxhrJE"
      },
      "source": [
        "from model import WCT2\n",
        "from dataloader import DataGenerator\n",
        "from utils import http_get_img, preprocess, get_local_img\n",
        "from ops import WhiteningAndColoring, get_predict_function, gram_matrix, TfReduceSum\n",
        "import tensorflow.keras.backend as K\n",
        "import tensorflow as tf\n",
        "from google.colab.patches import cv2_imshow\n",
        "\n",
        "class _WCT2(WCT2):\n",
        "    pass\n",
        "\n",
        "wct = _WCT2(BASE_DIR, rst=None, lr=1e-4, show_interval=10,\n",
        "            gram_loss_weight=1.0)\n",
        "data_gen = DataGenerator(BASE_DIR, 8, 256, max_size=1500,\n",
        "                        normalize=True)\n"
      ],
      "execution_count": null,
      "outputs": []
    },
    {
      "cell_type": "code",
      "metadata": {
        "id": "17M5Cta3EpqY"
      },
      "source": [
        "wct.load_weight()\n",
        "wct.train(data_gen, 500)"
      ],
      "execution_count": null,
      "outputs": []
    },
    {
      "cell_type": "code",
      "metadata": {
        "id": "G5dExvVK8-nG"
      },
      "source": [
        "import datetime\n",
        "import numpy as np\n",
        "\n",
        "rst=None\n",
        "test_id = np.random.randint(1, 60)\n",
        "test_id=20\n",
        "print(test_id)\n",
        "\n",
        "start = datetime.datetime.now()\n",
        "content = get_local_img(\"examples/input/in{}.png\".format(test_id),rst,True,True)\n",
        "style = get_local_img(\"examples/style/tar{}.png\".format(test_id),rst,True,True)\n",
        "\n",
        "# content = http_get_img(\n",
        "#     'https://github.com/clovaai/WCT2/blob/master/examples/content/in00.png?raw=true',\n",
        "#     None,True,True\n",
        "# )\n",
        "\n",
        "# style = http_get_img(\n",
        "#     'https://github.com/clovaai/WCT2/blob/master/examples/style/in00.png?raw=true',\n",
        "#     None,True,True\n",
        "# )\n",
        "\n",
        "print(\"load data in \", (datetime.datetime.now() - start))\n",
        "\n",
        "start = datetime.datetime.now()\n",
        "new_img = wct.transfer(content, style, 1.0)\n",
        "print(\"Transfer in \", (datetime.datetime.now() - start))\n",
        "\n",
        "data_gen.show_imgs(content[0])\n",
        "data_gen.show_imgs(style[0])\n",
        "data_gen.show_imgs(new_img[0])\n"
      ],
      "execution_count": null,
      "outputs": []
    }
  ]
}