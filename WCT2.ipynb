{
  "nbformat": 4,
  "nbformat_minor": 0,
  "metadata": {
    "colab": {
      "name": "WTC2",
      "provenance": [],
      "collapsed_sections": [],
      "include_colab_link": true
    },
    "kernelspec": {
      "name": "python3",
      "display_name": "Python 3"
    },
    "accelerator": "GPU"
  },
  "cells": [
    {
      "cell_type": "markdown",
      "metadata": {
        "id": "view-in-github",
        "colab_type": "text"
      },
      "source": [
        "<a href=\"https://colab.research.google.com/github/ptran1203/photorealistic_style_transfer/blob/master/WTC2.ipynb\" target=\"_parent\"><img src=\"https://colab.research.google.com/assets/colab-badge.svg\" alt=\"Open In Colab\"/></a>"
      ]
    },
    {
      "cell_type": "code",
      "metadata": {
        "id": "7aMqylPSbxs9"
      },
      "source": [
        "from google.colab import drive, output\n",
        "import os\n",
        "import json\n",
        "\n",
        "%cd /content/\n",
        "!rm -rf '/content/photorealistic_style_transfer'\n",
        "!git clone https://github.com/ptran1203/photorealistic_style_transfer\n",
        "%cd photorealistic_style_transfer\n",
        "\n",
        "if not os.path.exists(\"/content/tfrecords\"):\n",
        "    !wget -O /content/tfrecords.zip https://github.com/ptran1203/photorealistic_style_transfer/releases/download/v1.0/tfrecords.zip\n",
        "    !unzip /content/tfrecords.zip -d /content/\n",
        "output.clear()"
      ],
      "execution_count": 1,
      "outputs": []
    },
    {
      "cell_type": "code",
      "metadata": {
        "id": "UYusm3xxhrJE"
      },
      "source": [
        "# !python3 train.py --train-tfrec /content/tfrecords/train.tfrec\\\n",
        "#                 --epochs 10"
      ],
      "execution_count": 2,
      "outputs": []
    },
    {
      "cell_type": "code",
      "metadata": {
        "id": "_LGvkzJjev2z"
      },
      "source": [
        "# !python3 inference.py --content /content/photorealistic_style_transfer/examples/input/in21.png\\\n",
        "#                     --style /content/photorealistic_style_transfer/examples/style\\\n",
        "#                     --output /content/tests"
      ],
      "execution_count": null,
      "outputs": []
    },
    {
      "cell_type": "code",
      "metadata": {
        "id": "KUO7q_gX82Lh"
      },
      "source": [
        "from model import WCT2\n",
        "from utils import read_img, download_weight\n",
        "import cv2\n",
        "\n",
        "model = WCT2()\n",
        "model.load_weight(download_weight())"
      ],
      "execution_count": 4,
      "outputs": []
    },
    {
      "cell_type": "code",
      "metadata": {
        "id": "G5dExvVK8-nG"
      },
      "source": [
        "content = '/content/photorealistic_style_transfer/examples/input/in31.png'\n",
        "style = '/content/photorealistic_style_transfer/examples/style/tar31.png'\n",
        "\n",
        "image_size = 512\n",
        "content = read_img(content, image_size, expand_dims=True)\n",
        "style = read_img(style, image_size, expand_dims=True)\n",
        "\n",
        "gen = model.transfer(content, style, 0.8)\n",
        "cv2.imwrite('/content/test.jpeg', gen[0][...,::-1])"
      ],
      "execution_count": null,
      "outputs": []
    },
    {
      "cell_type": "code",
      "metadata": {
        "id": "5liqeKAwN9EJ"
      },
      "source": [
        "from utils import display_outputs\n",
        "\n",
        "display_outputs(content[0], style[0], gen[0])"
      ],
      "execution_count": null,
      "outputs": []
    }
  ]
}